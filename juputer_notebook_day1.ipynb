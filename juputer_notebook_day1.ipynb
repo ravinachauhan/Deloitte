{
 "cells": [
  {
   "cell_type": "code",
   "execution_count": 32,
   "id": "08cf024a",
   "metadata": {},
   "outputs": [],
   "source": [
    "from math import sqrt\n",
    "from math import pi"
   ]
  },
  {
   "cell_type": "code",
   "execution_count": 2,
   "id": "fd57a6f9",
   "metadata": {},
   "outputs": [
    {
     "name": "stdout",
     "output_type": "stream",
     "text": [
      "The amount is  10\n"
     ]
    }
   ],
   "source": [
    "print(\"The amount is \",a)"
   ]
  },
  {
   "cell_type": "code",
   "execution_count": 33,
   "id": "a193fe10",
   "metadata": {},
   "outputs": [
    {
     "name": "stdout",
     "output_type": "stream",
     "text": [
      "Area is 78.53981633974483\n",
      "Perimeter is 31.41592653589793\n"
     ]
    }
   ],
   "source": [
    "#1.\n",
    "radius=5\n",
    "area=pi*radius*radius\n",
    "perimeter=2*pi*radius\n",
    "print(\"Area is\",area)\n",
    "print(\"Perimeter is\",perimeter)"
   ]
  },
  {
   "cell_type": "code",
   "execution_count": 22,
   "id": "91d73ab6",
   "metadata": {},
   "outputs": [
    {
     "name": "stdout",
     "output_type": "stream",
     "text": [
      "75000.0\n"
     ]
    }
   ],
   "source": [
    "#2.\n",
    "p=5\n",
    "r=5\n",
    "t=300000\n",
    "simple_interest=(p*r*t)/100\n",
    "print(simple_interest)"
   ]
  },
  {
   "cell_type": "code",
   "execution_count": 31,
   "id": "12f237d2",
   "metadata": {},
   "outputs": [
    {
     "name": "stdout",
     "output_type": "stream",
     "text": [
      "hypotenuse is  58.309518948453004\n"
     ]
    }
   ],
   "source": [
    "#4\n",
    "a=30\n",
    "b=50\n",
    "c=sqrt(a**2+b**2)\n",
    "print(\"hypotenuse is \",c)"
   ]
  },
  {
   "cell_type": "code",
   "execution_count": 13,
   "id": "d12e5221",
   "metadata": {},
   "outputs": [
    {
     "name": "stdout",
     "output_type": "stream",
     "text": [
      "Area is  50\n",
      "Perimeter is  30\n"
     ]
    }
   ],
   "source": [
    "#5\n",
    "length=10\n",
    "breadth=5\n",
    "area=length*breadth\n",
    "perimeter=2*(length+breadth)\n",
    "print(\"Area is \", area)\n",
    "print(\"Perimeter is \",perimeter)\n"
   ]
  },
  {
   "cell_type": "code",
   "execution_count": 11,
   "id": "5b201010",
   "metadata": {},
   "outputs": [
    {
     "name": "stdout",
     "output_type": "stream",
     "text": [
      "John Mathew\n"
     ]
    }
   ],
   "source": [
    "#6.\n",
    "full_name=\"John\" + \" \" + \"Mathew\"\n",
    "print(full_name)"
   ]
  },
  {
   "cell_type": "code",
   "execution_count": 29,
   "id": "2587de7f",
   "metadata": {},
   "outputs": [
    {
     "name": "stdout",
     "output_type": "stream",
     "text": [
      "ASCII value of  A is  65\n",
      "ASCII value of B is 66\n",
      "ASCII value of a is 99\n",
      "ASCII value of b  is 100\n"
     ]
    }
   ],
   "source": [
    "#7.\n",
    "a='A'\n",
    "b='B'\n",
    "c='c'\n",
    "d='d'\n",
    "print(\"ASCII value of  A is \",ord(a))\n",
    "print(\"ASCII value of B is\",ord(b))\n",
    "print(\"ASCII value of a is\",ord(c))\n",
    "print(\"ASCII value of b  is\",ord(d))\n"
   ]
  },
  {
   "cell_type": "code",
   "execution_count": 34,
   "id": "475ce79e",
   "metadata": {},
   "outputs": [
    {
     "name": "stdout",
     "output_type": "stream",
     "text": [
      "Distance is  15.0 km\n"
     ]
    }
   ],
   "source": [
    "#8.\n",
    "speed=30\n",
    "time=30\n",
    "distance=speed*(time/60)\n",
    "print(\"Distance is \",distance,\"km\")"
   ]
  },
  {
   "cell_type": "code",
   "execution_count": 35,
   "id": "b507ecf9",
   "metadata": {},
   "outputs": [],
   "source": [
    "#input"
   ]
  },
  {
   "cell_type": "code",
   "execution_count": 41,
   "id": "db79ebc1",
   "metadata": {},
   "outputs": [
    {
     "name": "stdout",
     "output_type": "stream",
     "text": [
      "Enter cost price10\n",
      "Enter selling price12\n",
      "profit is  2\n"
     ]
    }
   ],
   "source": [
    "#1.\n",
    "cost_price=int(input(\"Enter cost price\"))\n",
    "selling_price=int(input(\"Enter selling price\"))\n",
    "if cost_price < selling_price:\n",
    "    profit=selling_price-cost_price\n",
    "    print(\"profit is \",profit)\n",
    "\n",
    "elif cost_price > selling_price:\n",
    "     loss=cost_price-selling_price \n",
    "     print(\"loss is\",loss)\n",
    "\n",
    "else:\n",
    "     print(\"No Profit or Loss\")"
   ]
  },
  {
   "cell_type": "code",
   "execution_count": 42,
   "id": "b59a55fd",
   "metadata": {},
   "outputs": [
    {
     "name": "stdout",
     "output_type": "stream",
     "text": [
      "Enter nameravina\n",
      "The length of  ravina  is  6\n"
     ]
    }
   ],
   "source": [
    "#2.\n",
    "name=input(\"Enter name\")\n",
    "print(\"The length of \",name,\" is \",len(name))"
   ]
  },
  {
   "cell_type": "code",
   "execution_count": 52,
   "id": "cb306855",
   "metadata": {},
   "outputs": [
    {
     "name": "stdout",
     "output_type": "stream",
     "text": [
      "Enter maths marks1\n",
      "Enter english marks2\n",
      "Enter science marks3\n",
      "Enter hindi marks4\n",
      "The aggreagte percentage is  2.5\n",
      "hindi has highest marks  4\n",
      "Maths has lowestest marks  1\n"
     ]
    }
   ],
   "source": [
    "#3\n",
    "maths=int(input(\"Enter maths marks\"))\n",
    "english=int(input(\"Enter english marks\"))\n",
    "science=int(input(\"Enter science marks\"))\n",
    "hindi=int(input(\"Enter hindi marks\"))\n",
    "\n",
    "agg_percent=((maths+english+science+hindi)/400)*100\n",
    "print(\"The aggreagte percentage is \",agg_percent)\n",
    "\n",
    "if maths> english and maths>science and maths>hindi:\n",
    "    print(\"Maths has highest marks \",maths)\n",
    "    \n",
    "elif english> maths and english>science and english>hindi:\n",
    "    print(\"English has highest marks \",english)\n",
    "\n",
    "elif science> maths and science>english and science>hindi:\n",
    "    print(\"Science has highest marks \",science)\n",
    "\n",
    "elif hindi> maths and hindi>science and hindi>english:\n",
    "    print(\"hindi has highest marks \",hindi)\n",
    "    \n",
    "\n",
    "if maths< english and maths<science and maths<hindi:\n",
    "    print(\"Maths has lowestest marks \",maths)\n",
    "    \n",
    "elif english< maths and english<science and english<hindi:\n",
    "    print(\"English has lowest marks \",english)\n",
    "\n",
    "elif science< maths and science<english and science<hindi:\n",
    "    print(\"Science has lowest marks \",science)\n",
    "\n",
    "elif hindi< maths and hindi<science and hindi<english:\n",
    "    print(\"hindi has lowest marks \",hindi)\n",
    "\n",
    "\n"
   ]
  },
  {
   "cell_type": "code",
   "execution_count": 55,
   "id": "45cbc749",
   "metadata": {},
   "outputs": [
    {
     "name": "stdout",
     "output_type": "stream",
     "text": [
      "Enter string : AEiou\n",
      "Upper case vowels are 2\n",
      "Lower case vowels are 3\n"
     ]
    }
   ],
   "source": [
    "#4\n",
    "string=input(\"Enter string : \")\n",
    "lcount=0\n",
    "ucount=0\n",
    "for char in string:\n",
    "    if char=='a' or char=='e' or char=='i' or char=='o' or char=='u':\n",
    "            lcount=lcount+1\n",
    "    elif  char=='A' or char=='E' or char=='I' or char=='O' or char=='U':\n",
    "            ucount=ucount+1\n",
    "print(\"Upper case vowels are\",ucount)\n",
    "print(\"Lower case vowels are\",lcount)"
   ]
  },
  {
   "cell_type": "code",
   "execution_count": 9,
   "id": "1d82b0b6",
   "metadata": {},
   "outputs": [
    {
     "name": "stdout",
     "output_type": "stream",
     "text": [
      "Enter number: 5\n",
      "5  X  1  =  5\n",
      "5  X  2  =  10\n",
      "5  X  3  =  15\n",
      "5  X  4  =  20\n",
      "5  X  5  =  25\n",
      "5  X  6  =  30\n",
      "5  X  7  =  35\n",
      "5  X  8  =  40\n",
      "5  X  9  =  45\n",
      "5  X  10  =  50\n"
     ]
    }
   ],
   "source": [
    "'''1.take input from user any number and print its table. eg if user enters 3 we should get\n",
    "if user enters negative number or 0 user should get max 3 chances to enter right number. once right number is \n",
    "given we should not ask number again'''\n",
    "while(3):\n",
    "    n=int(input(\"Enter number: \"))\n",
    "    if n>0:\n",
    "        break\n",
    "    else:\n",
    "        print(\"Enter a number greater than 0\")\n",
    "        print(t-1,\"chances left\")\n",
    "    t=t-1\n",
    "        \n",
    "if n>0:\n",
    "    for i in range(1,11):\n",
    "        print(n,\" X \", i ,\" = \",n*i)\n",
    "    "
   ]
  },
  {
   "cell_type": "code",
   "execution_count": 4,
   "id": "f5055dd8",
   "metadata": {},
   "outputs": [
    {
     "name": "stdout",
     "output_type": "stream",
     "text": [
      "Enter passwordPas@1234\n",
      "Password is valid\n"
     ]
    }
   ],
   "source": [
    "'''2. take input from user any password. password must be of min 8 chars, it should have one number, one capita letter\n",
    "one small letter, one special char, one space. if all these criteria are met, password is valid. user should get\n",
    "max 3 chances to enter right number.'''\n",
    "\n",
    "t=3\n",
    "l=0\n",
    "u=0\n",
    "d=0\n",
    "s=0\n",
    "flag=0\n",
    "check=False\n",
    "while(t and flag==0):\n",
    "    p=input(\"Enter password\")\n",
    "    if( len(p)>=8):\n",
    "        for char in p:\n",
    "            if(char.isupper()):\n",
    "                u=u+1\n",
    "            if(char.islower()):\n",
    "                l=l+1\n",
    "            if( char.isdigit()):\n",
    "                d=d+1\n",
    "            if(char=='@' or char=='$' ):\n",
    "                s=s+1\n",
    "    \n",
    "    if(u>=1 and l>=1 and s>=1 and d>=1):\n",
    "        check=True\n",
    "    else:\n",
    "        check=False\n",
    "        \n",
    "    if(check):\n",
    "        print(\"Password is valid\")\n",
    "        flag=1\n",
    "    else:\n",
    "        print(\"Enter valid password again\")\n",
    "        print(t-1,\"chances left\")\n",
    "    t=t-1"
   ]
  },
  {
   "cell_type": "code",
   "execution_count": 12,
   "id": "071c0444",
   "metadata": {},
   "outputs": [
    {
     "name": "stdout",
     "output_type": "stream",
     "text": [
      "Enter stringravina\n",
      "ASCII value of  r  is  114\n",
      "ASCII value of  a  is  97\n",
      "ASCII value of  v  is  118\n",
      "ASCII value of  i  is  105\n",
      "ASCII value of  n  is  110\n",
      "ASCII value of  a  is  97\n"
     ]
    }
   ],
   "source": [
    "'''1. take input from user any string and print ASCII value of all the characters of a string'''\n",
    "\n",
    "string=input(\"Enter string: \")\n",
    "for i in range(len(string)):\n",
    "    print(\"ASCII value of \", string[i], \" is \",ord(string[i]))"
   ]
  },
  {
   "cell_type": "code",
   "execution_count": 16,
   "id": "dfc8ab98",
   "metadata": {},
   "outputs": [
    {
     "name": "stdout",
     "output_type": "stream",
     "text": [
      "Enter first and last name: ravina\n",
      "the occurance of A or a in whole name is  2\n"
     ]
    }
   ],
   "source": [
    "'''2. take input from user first name and last name and check the occurance of A or a in whole name and count it'''\n",
    "count=0\n",
    "name=input(\"Enter first and last name: \")\n",
    "for ch in name:\n",
    "    if ch=='A' or ch=='a':\n",
    "        count=count+1\n",
    "print(\"the occurance of A or a in whole name is \",count)"
   ]
  },
  {
   "cell_type": "code",
   "execution_count": 21,
   "id": "cc94182f",
   "metadata": {},
   "outputs": [
    {
     "name": "stdout",
     "output_type": "stream",
     "text": [
      "Enter stringravina\n",
      "Maximum value character v\n",
      "Manimum value character a\n"
     ]
    }
   ],
   "source": [
    "'''3. take input from user any string and find the alphabet having max and min ASCII value'''\n",
    "s=input(\"Enter string\")\n",
    "max_val=ord(s[0])\n",
    "min_val=ord(s[0])\n",
    "for i in s[1:]:\n",
    "    if ord(i)>max_val:\n",
    "        max_val=ord(i)\n",
    "        max_char=i\n",
    "    if ord(i)<min_val:\n",
    "        min_val=ord(i)\n",
    "        min_char=i\n",
    "print(\"Maximum value character\",max_char)\n",
    "print(\"Manimum value character\",min_char)\n",
    "    \n",
    "    "
   ]
  },
  {
   "cell_type": "code",
   "execution_count": null,
   "id": "709ce9cd",
   "metadata": {},
   "outputs": [],
   "source": []
  }
 ],
 "metadata": {
  "kernelspec": {
   "display_name": "Python 3 (ipykernel)",
   "language": "python",
   "name": "python3"
  },
  "language_info": {
   "codemirror_mode": {
    "name": "ipython",
    "version": 3
   },
   "file_extension": ".py",
   "mimetype": "text/x-python",
   "name": "python",
   "nbconvert_exporter": "python",
   "pygments_lexer": "ipython3",
   "version": "3.9.7"
  }
 },
 "nbformat": 4,
 "nbformat_minor": 5
}
